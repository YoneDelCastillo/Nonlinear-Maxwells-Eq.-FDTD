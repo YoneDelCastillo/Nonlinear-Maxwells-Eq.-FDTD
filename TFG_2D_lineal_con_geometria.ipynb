{
  "cells": [
    {
      "cell_type": "markdown",
      "metadata": {
        "id": "view-in-github",
        "colab_type": "text"
      },
      "source": [
        "<a href=\"https://colab.research.google.com/github/YoneDelCastillo/Nonlinear-Maxwells-Eq.-FDTD/blob/main/TFG_2D_lineal_con_geometria.ipynb\" target=\"_parent\"><img src=\"https://colab.research.google.com/assets/colab-badge.svg\" alt=\"Open In Colab\"/></a>"
      ]
    },
    {
      "cell_type": "code",
      "source": [
        "#===========================\n",
        "\n",
        " ####  ###    #####   ###\n",
        " #     #  #     #     #  #\n",
        " ###   #   #    #     #   #\n",
        " #     #  #     #     #  #\n",
        " #     ###      #     ###\n",
        "\n",
        "#==========================="
      ],
      "metadata": {
        "id": "qGbQm_oFx2TP"
      },
      "execution_count": null,
      "outputs": []
    },
    {
      "cell_type": "code",
      "execution_count": null,
      "metadata": {
        "id": "9mVKBbYKqAQ_"
      },
      "outputs": [],
      "source": [
        "#MODULOS DE PYTHON\n",
        "\n",
        "#Librerías:\n",
        "#Para cálculos y gráficas:\n",
        "import numpy as np\n",
        "import matplotlib.pyplot as plt\n",
        "#Para la animación:\n",
        "import matplotlib.animation as animation\n",
        "\n",
        "#FUNCIONES ÚTILES\n",
        "def gaussian(x,y,x0,y0,a,b):\n",
        "  return np.exp(-(x-x0)**2/(2*a**2)-(y-y0)**2/(2*b**2))\n",
        "\n",
        "def cross(A,B):\n",
        "  return np.array([A[1]*B[2],-A[0]*B[2]])"
      ]
    },
    {
      "cell_type": "code",
      "execution_count": null,
      "metadata": {
        "colab": {
          "base_uri": "https://localhost:8080/"
        },
        "id": "mJnjMmnq9UAr",
        "outputId": "6b839955-036a-40ce-bc0f-248893a02848"
      },
      "outputs": [
        {
          "output_type": "stream",
          "name": "stdout",
          "text": [
            "Dimensiones del retículo: 102x52\n"
          ]
        }
      ],
      "source": [
        "#DEFINICION DE VARIABLES Y PARAMETROS\n",
        "\n",
        "#Número de puntos espaciales\n",
        "Lx = 2\n",
        "dx = 0.02\n",
        "Ly = 1\n",
        "dy = 0.02\n",
        "\n",
        "Nx = int(Lx/dx)+2\n",
        "Ny = int(Ly/dy)+2\n",
        "\n",
        "#Número de intervalos temporales\n",
        "T = 2.5\n",
        "dt = 0.0001\n",
        "\n",
        "Nt = int(T/dt)\n",
        "\n",
        "#Constantes físicas\n",
        "\n",
        "# σ/ε = a\n",
        "a = 0\n",
        "# σ*/μ = b\n",
        "b = 0\n",
        "# ε\n",
        "e = 1\n",
        "# μ\n",
        "u = 1\n",
        "\n",
        "#Definicion de los campos\n",
        "Ex = np.zeros((Ny,Nx,Nt))\n",
        "Ey = np.zeros((Ny,Nx,Nt))\n",
        "Hz = np.zeros((Ny,Nx,Nt))\n",
        "\n",
        "#Definimos los campos virtuales que almacenarán temporalmente el nuevo valor del campo\n",
        "Ex_virtual = np.zeros((Ny,Nx))\n",
        "Ey_virtual = np.zeros((Ny,Nx))\n",
        "Hz_virtual = np.zeros((Ny,Nx))\n",
        "\n",
        "# CONDICIÓN INICIAL\n",
        "#Posición\n",
        "X0 = 0.2*Lx\n",
        "Y0 = 0.5*Ly\n",
        "#Anchura de la gaussiana\n",
        "sigma_x = 0.08\n",
        "sigma_y = 0.2\n",
        "#Número de onda\n",
        "Kx = 2*np.pi/(0.15*Lx)\n",
        "\n",
        "# Imponemos las condiciones iniciales a Ey y Hz\n",
        "\n",
        "#PULSO ONDA PLANA\n",
        "for j in np.arange(1,Ny-1):\n",
        "  for i in np.arange(1,Nx-1):\n",
        "    Ey[j,i,0] = gaussian(      i*dx,(j+1/2)*dy,X0,Y0,sigma_x,sigma_y)*np.cos(Kx*(      i*dx-X0))\n",
        "    Hz[j,i,0] = gaussian((i+1/2)*dx,(j+1/2)*dy,X0,Y0,sigma_x,sigma_y)*np.cos(Kx*((i+1/2)*dx-X0))\n",
        "\"\"\"\n",
        "#ONDA ESFÉRICA\n",
        "#radio\n",
        "sigma = 0.12\n",
        "\n",
        "for j in np.arange(1,Ny-1):\n",
        "  for i in np.arange(1,Nx-1):\n",
        "    Ey[j,i,0] =  (i*dx - X0)/np.sqrt( (i*dx - X0)**2 + ((j+1/2)*dy -Y0)**2 )*gaussian(i*dx,(j+1/2)*dy,X0,Y0,sigma,sigma)*np.sin(Kx*np.sqrt( (i*dx - X0)**2 + ((j+1/2)*dy - Y0)**2 ))\n",
        "    Ex[j,i,0] = -(j*dx - Y0)/np.sqrt( ((i+1/2)*dx - X0)**2 + (j*dy -Y0)**2 )*gaussian((i+1/2)*dx,j*dy,X0,Y0,sigma,sigma)*np.sin(Kx*np.sqrt( ((i+1/2)*dx - X0)**2 + (j*dy - Y0)**2 ))\n",
        "    Hz[j,i,0] =  gaussian((i+1/2)*dx,(j+1/2)*dy,X0,Y0,sigma,sigma)\n",
        "\"\"\"\n",
        "\n",
        "# Campo vectorial\n",
        "\n",
        "#Número puntos que se salta para la representación\n",
        "Salto = 3\n",
        "#Malla de puntos\n",
        "X,Y = np.meshgrid(np.arange(0,Nx-1,Salto),np.arange(0,Ny-1,Salto))\n",
        "#Arrays reducidos\n",
        "Ny_q, Nx_q = np.shape(X)\n",
        "Ey_q = np.zeros((Ny_q,Nx_q,Nt))\n",
        "Ex_q = np.zeros((Ny_q,Nx_q,Nt))\n",
        "Hz_q = np.zeros((Ny_q,Nx_q,Nt))\n",
        "\n",
        "#Copiamos la información a los arrays reducidos\n",
        "for j in np.arange(0,Ny_q):\n",
        "  for i in np.arange(0,Nx_q):\n",
        "    Ey_q[j,i,0] = Ey[Salto*j,Salto*i,0]\n",
        "    Ex_q[j,i,0] = Ex[Salto*j,Salto*i,0]\n",
        "    Hz_q[j,i,0] = Hz[Salto*j,Salto*i,0]\n",
        "\n",
        "#Color de las flechas\n",
        "#color = Ey_q[:,:,0]\n",
        "color = np.sqrt(Ex_q[:,:,0]**2+Ey_q[:,:,0]**2)\n",
        "#color = Ey_q[:,:,0]+Ex_q[:,:,0]\n",
        "\n",
        "geometria = False\n",
        "geo = None\n",
        "\n",
        "print(f\"Dimensiones del retículo: {Nx}x{Ny}\")"
      ]
    },
    {
      "cell_type": "code",
      "execution_count": null,
      "metadata": {
        "id": "X2IvwJCZswVK"
      },
      "outputs": [],
      "source": [
        "#GEOMETRÍA DE PERMITIVIDAD\n",
        "\n",
        "geo = np.ones((Ny,Nx)) #Homogéneo por defecto\n",
        "n_i = 1.75 #Índice de fracción\n",
        "\n",
        "geometria = True"
      ]
    },
    {
      "cell_type": "code",
      "execution_count": null,
      "metadata": {
        "id": "Alvd2gs1UcoG"
      },
      "outputs": [],
      "source": [
        "#Círculo\n",
        "geo = np.ones((Ny,Nx))\n",
        "\n",
        "R = 0.20*np.sqrt(Nx*Ny) #Radio del círculo\n",
        "X0 = 0.6*Nx             #Centro del círculo\n",
        "Y0 = 0.5*Ny\n",
        "\n",
        "def dist(x,y,x0,y0):\n",
        "  D = np.sqrt((x-x0)**2+(y-y0)**2)\n",
        "  return D\n",
        "\n",
        "for j in np.arange(0,Ny):\n",
        "  for i in np.arange(0,Nx):\n",
        "    if dist(i,j,X0,Y0) <= R:\n",
        "      geo[j,i] = n_i\n",
        "\n",
        "ang = np.arange(0,2*np.pi+0.08,0.08)\n",
        "x = R*np.cos(ang)+X0\n",
        "y = R*np.sin(ang)+Y0\n",
        "\n",
        "e = geo\n",
        "u = geo\n",
        "\n",
        "geom_type=\"circulo\""
      ]
    },
    {
      "cell_type": "code",
      "execution_count": null,
      "metadata": {
        "id": "tdtrdUmPU0uo"
      },
      "outputs": [],
      "source": [
        "#Superficie plana\n",
        "geo = np.ones((Ny,Nx))\n",
        "\n",
        "ang = 65*(np.pi/180)  #Ángulo con respecto al eje x\n",
        "X0 = 0.4*Nx           #Distancia al origen\n",
        "\n",
        "for j in np.arange(0,Ny):\n",
        "  for i in np.arange(0,Nx):\n",
        "    if j <= np.tan(ang)*(i-X0):\n",
        "      geo[j,i] = n_i\n",
        "\n",
        "x = np.arange(0,Nx+0.1,0.1)\n",
        "y = np.tan(ang)*(x-X0)\n",
        "\n",
        "e = geo\n",
        "u = geo\n",
        "\n",
        "geom_type=\"superficie_plana\""
      ]
    },
    {
      "cell_type": "code",
      "execution_count": null,
      "metadata": {
        "id": "PdBQX-yr9b1n"
      },
      "outputs": [],
      "source": [
        "#Parabólica\n",
        "geo = np.ones((Ny,Nx))\n",
        "\n",
        "a = 1/np.sqrt(Nx*Ny)\n",
        "X0 = 0.33*Nx\n",
        "Y0 = 0.5*Ny\n",
        "\n",
        "for j in np.arange(0,Ny):\n",
        "  for i in np.arange(0,Nx):\n",
        "    if i-X0 >= a*(j-Y0)**2:\n",
        "      geo[j,i] = n_i\n",
        "\n",
        "y = np.arange(0,Ny+0.05,0.05)\n",
        "x = a*(y-Y0)**2+X0\n",
        "\n",
        "e = geo\n",
        "u = geo\n",
        "\n",
        "geom_type=\"parabolica\""
      ]
    },
    {
      "cell_type": "code",
      "execution_count": null,
      "metadata": {
        "id": "YassW_y9VDey"
      },
      "outputs": [],
      "source": [
        "#Arbitraria\n",
        "geo = np.ones((Ny,Nx))\n",
        "\n",
        "imagen = plt.imread(\"Geom_3.png\")\n",
        "for j in np.arange(0,Ny):\n",
        "  for i in np.arange(0,Nx):\n",
        "    if imagen[Ny-1-j,i,0] == 0:\n",
        "      geo[j,i] = n_i\n",
        "\n",
        "e = geo\n",
        "u = geo\n",
        "\n",
        "geom_type=\"arbitraria\""
      ]
    },
    {
      "cell_type": "code",
      "execution_count": null,
      "metadata": {
        "id": "lhnXdPeLVdqy",
        "colab": {
          "base_uri": "https://localhost:8080/",
          "height": 336
        },
        "outputId": "55175128-60fe-4aef-e8ca-4184af89c6e7",
        "collapsed": true
      },
      "outputs": [
        {
          "output_type": "display_data",
          "data": {
            "text/plain": [
              "<Figure size 640x480 with 2 Axes>"
            ],
            "image/png": "[encoded data removed]"
          },
          "metadata": {}
        }
      ],
      "source": [
        "#Representamos la geometría de las permitividades\n",
        "plt.imshow(e,origin=\"lower\")\n",
        "plt.colorbar(shrink=Ly/Lx)\n",
        "plt.title(\"Geometría de $\\epsilon$ y $\\mu$\")\n",
        "plt.xlabel(\"$x$\")\n",
        "plt.ylabel(\"$y$\",rotation=0)\n",
        "plt.xlim(0,Nx-1)\n",
        "plt.ylim(0,Ny-1)\n",
        "#plt.plot(x,y,\"k-\",linewidth=2)\n",
        "plt.tight_layout()"
      ]
    },
    {
      "cell_type": "code",
      "execution_count": null,
      "metadata": {
        "id": "DQrS-ARoLJo9"
      },
      "outputs": [],
      "source": [
        "#Geometría OPACA arbitraria\n",
        "\n",
        "geo = np.ones((Ny,Nx))\n",
        "\n",
        "nom_geom = \"Geom_Rendija.png\"\n",
        "imagen = plt.imread(nom_geom)\n",
        "for j in np.arange(0,Ny):\n",
        "  for i in np.arange(0,Nx):\n",
        "    if imagen[Ny-1-j,i,0] != 1 or imagen[Ny-1-j,i,1] != 1 or imagen[Ny-1-j,i,2] != 1 :\n",
        "      geo[j,i] = 0\n",
        "\n",
        "#La imponemos también como condición inicial\n",
        "Ex[:,:,0] = geo*Ex[:,:,0]\n",
        "Ey[:,:,0] = geo*Ey[:,:,0]\n",
        "Hz[:,:,0] = geo*Hz[:,:,0]\n",
        "\n",
        "#Campo vectorial\n",
        "#Copiamos ka información a los arrays reducidos\n",
        "for j in np.arange(0,Ny_q):\n",
        "  for i in np.arange(0,Nx_q):\n",
        "    Ey_q[j,i,0] = Ey[Salto*j,Salto*i,0]\n",
        "    Ex_q[j,i,0] = Ex[Salto*j,Salto*i,0]\n",
        "    Hz_q[j,i,0] = Hz[Salto*j,Salto*i,0]\n",
        "\n",
        "#Color de las flechas\n",
        "color = np.sqrt(Ex_q[:,:,0]**2+Ey_q[:,:,0]**2)\n",
        "#color = Ey_q[:,:,0]+Ex_q[:,:,0]\n",
        "#color = Ey_q[:,:,0]\n",
        "\n",
        "geom_type=\"Opaca_arbitraria\""
      ]
    },
    {
      "cell_type": "code",
      "execution_count": null,
      "metadata": {
        "colab": {
          "base_uri": "https://localhost:8080/",
          "height": 371
        },
        "id": "kf_C7J0-LgmR",
        "outputId": "c39a213a-7988-4c58-d0a4-47f6d0b488ca"
      },
      "outputs": [
        {
          "output_type": "execute_result",
          "data": {
            "text/plain": [
              "(0.0, 51.0)"
            ]
          },
          "metadata": {},
          "execution_count": 19
        },
        {
          "output_type": "display_data",
          "data": {
            "text/plain": [
              "<Figure size 640x480 with 1 Axes>"
            ],
            "image/png": "[encoded data removed]"
          },
          "metadata": {}
        }
      ],
      "source": [
        "#Representamos la geometría opaca\n",
        "plt.imshow(geo,cmap=\"Greys_r\",origin=\"lower\")\n",
        "#plt.colorbar()\n",
        "plt.title(nom_geom[:-4])\n",
        "plt.xlabel(\"$x$\")\n",
        "plt.ylabel(\"$y$\",rotation=0)\n",
        "plt.xlim(0,Nx-1)\n",
        "plt.ylim(0,Ny-1)\n",
        "#plt.plot(x,y,\"k-\",linewidth=2)"
      ]
    },
    {
      "cell_type": "code",
      "execution_count": null,
      "metadata": {
        "colab": {
          "base_uri": "https://localhost:8080/",
          "height": 333
        },
        "id": "upJeLxp2TPxF",
        "outputId": "8ba9f603-8a6a-4912-839d-b7e9a1e15212"
      },
      "outputs": [
        {
          "output_type": "display_data",
          "data": {
            "text/plain": [
              "<Figure size 640x480 with 2 Axes>"
            ],
            "image/png": "[encoded data removed]"
          },
          "metadata": {}
        }
      ],
      "source": [
        "#VISUALIZACIÓN DE LA CONDICIÓN INICAL\n",
        "\n",
        "#Campo eléctrico vectorial\n",
        "plt.quiver(X,Y,Ex_q[:,:,0],Ey_q[:,:,0],color,scale=7,units=\"width\")\n",
        "\n",
        "#Geometría opaca\n",
        "if geom_type == \"Opaca_arbitraria\":\n",
        "  plt.imshow(geo,cmap=\"Greys_r\",vmin=0,vmax=1,origin=\"lower\")\n",
        "\n",
        "#Componente Ey\n",
        "plt.imshow(Ey[:,:,0],vmin=-0.75,vmax=0.75,origin=\"lower\")#,alpha=geo\n",
        "\n",
        "#Frontera\n",
        "plt.plot(x,y,\"k-\",linewidth=0.65)\n",
        "\n",
        "#Ajustes de la figura\n",
        "plt.title(f\"n = 0/{Nt}\")\n",
        "plt.colorbar(shrink=Ny/Nx)\n",
        "plt.xlabel(\"$x$\")\n",
        "plt.ylabel(\"$y$\",rotation=0)\n",
        "plt.xlim(0,Nx-1)\n",
        "plt.ylim(0,Ny-1)\n",
        "plt.tight_layout()"
      ]
    },
    {
      "cell_type": "code",
      "source": [
        "# ALGORITMO DE YEE\n",
        "# Conductividades σ,σ* ≠ 0\n",
        "# ε y μ sin geometria\n",
        "\n",
        "for n in range(Nt-1):\n",
        "    print(f\"\\r{round(n/(Nt-1)*100,2)}%\",end=\"\\r\")\n",
        "\n",
        "    # Crear copias de los arrays actuales\n",
        "    Hz_virtual = Hz[:, :, n].copy()\n",
        "    Ey_virtual = Ey[:, :, n].copy()\n",
        "    Ex_virtual = Ex[:, :, n].copy()\n",
        "\n",
        "    # Aplicar el factor de actualización a los arrays virtuales\n",
        "    Hz_virtual *= (1-0.5*b*dt)/(1+0.5*b*dt)\n",
        "    Ey_virtual *= (1-0.5*a*dt)/(1+0.5*a*dt)\n",
        "    Ex_virtual *= (1-0.5*a*dt)/(1+0.5*a*dt)\n",
        "\n",
        "    # Actualizar los valores en los arrays virtuales\n",
        "    Hz_virtual[1:-1, 1:-1] += ((dt/u)/(1+0.5*b*dt)) * ((Ey[1:-1, 1:-1,n] - Ey[1:-1, 2:  ,n]) / dx + (Ex[2:, 1:-1,n] - Ex[1:-1, 1:-1,n]) / dy)\n",
        "    Ey_virtual[1:-1, 1:-1] += ((dt/e)/(1+0.5*a*dt)) * ((Hz_virtual[1:-1,  :-2] - Hz_virtual[1:-1, 1:-1]) / dx)\n",
        "    Ex_virtual[1:-1, 1:-1] += ((dt/e)/(1+0.5*a*dt)) * ((Hz_virtual[1:-1, 1:-1] - Hz_virtual[ :-2, 1:-1]) / dy)\n",
        "\n",
        "    # Copiar los valores actualizados de vuelta a los arrays originales\n",
        "    Hz[:, :, n+1] = Hz_virtual\n",
        "    Ey[:, :, n+1] = Ey_virtual\n",
        "    Ex[:, :, n+1] = Ex_virtual\n",
        "\n",
        "\n",
        "\n",
        "# CAMPO VECTORIAL\n",
        "# Generar los índices directamente usando NumPy\n",
        "indices_j = np.arange(0, Ny_q) * Salto\n",
        "indices_i = np.arange(0, Nx_q) * Salto\n",
        "\n",
        "# Bucle en n para la actualización del campo\n",
        "for n in range(Nt):\n",
        "    print(f\"{round(n/(Nt-1)*100,2)}%\", end=\"\\r\")\n",
        "    Ey_q[:, :, n] = Ey[np.ix_(indices_j, indices_i, [n])].squeeze()\n",
        "    Ex_q[:, :, n] = Ex[np.ix_(indices_j, indices_i, [n])].squeeze()\n",
        "    Hz_q[:, :, n] = Hz[np.ix_(indices_j, indices_i, [n])].squeeze()\n",
        "\n",
        "# Vector de Poynting\n",
        "#S = cross([Ex,Ey,0],[0,0,Hz])\n",
        "S = cross([Ex_q,Ey_q,0],[0,0,Hz_q])\n",
        "\n",
        "color = np.sqrt(Ex_q**2 + Ey_q**2)\n"
      ],
      "metadata": {
        "colab": {
          "base_uri": "https://localhost:8080/"
        },
        "collapsed": true,
        "id": "c9CvFvqM1ZE4",
        "outputId": "70fedbe4-2700-4804-a720-d0146d9f016c"
      },
      "execution_count": null,
      "outputs": [
        {
          "output_type": "stream",
          "name": "stdout",
          "text": []
        }
      ]
    },
    {
      "cell_type": "code",
      "source": [
        "# ALGORITMO DE YEE\n",
        "# Conductividades σ,σ* = 0\n",
        "# ε y μ sin geometria\n",
        "\n",
        "for n in np.arange(0,Nt-1):\n",
        "    print(f\"\\r{round(n/(Nt-1)*100,2)}%\",end=\"\\r\")\n",
        "\n",
        "    # Crear copias de los arrays actuales\n",
        "    Hz_virtual = Hz[:, :, n].copy()\n",
        "    Ey_virtual = Ey[:, :, n].copy()\n",
        "    Ex_virtual = Ex[:, :, n].copy()\n",
        "\n",
        "    # Actualizar los valores en los arrays virtuales\n",
        "    Hz_virtual[1:-1, 1:-1] += (dt/u) * ((Ey_virtual[1:-1, 1:-1] - Ey_virtual[1:-1, 2:  ]) / dx + (Ex_virtual[2:, 1:-1] - Ex_virtual[1:-1, 1:-1]) / dy)\n",
        "    Ey_virtual[1:-1, 1:-1] += (dt/e) * ((Hz_virtual[1:-1,  :-2] - Hz_virtual[1:-1, 1:-1]) / dx)\n",
        "    Ex_virtual[1:-1, 1:-1] += (dt/e) * ((Hz_virtual[1:-1, 1:-1] - Hz_virtual[ :-2, 1:-1]) / dy)\n",
        "\n",
        "    # Copiar los valores actualizados de vuelta a los arrays originales\n",
        "    Hz[:, :, n+1] = Hz_virtual\n",
        "    Ey[:, :, n+1] = Ey_virtual\n",
        "    Ex[:, :, n+1] = Ex_virtual\n",
        "\n",
        "\n",
        "# CAMPO VECTORIAL\n",
        "# Generar los índices directamente usando NumPy\n",
        "indices_j = np.arange(0, Ny_q) * Salto\n",
        "indices_i = np.arange(0, Nx_q) * Salto\n",
        "\n",
        "# Bucle en n para la actualización del campo\n",
        "for n in range(Nt):\n",
        "    print(f\"{round(n/(Nt-1)*100,2)}%\", end=\"\\r\")\n",
        "    Ey_q[:, :, n] = Ey[np.ix_(indices_j, indices_i, [n])].squeeze()\n",
        "    Ex_q[:, :, n] = Ex[np.ix_(indices_j, indices_i, [n])].squeeze()\n",
        "    Hz_q[:, :, n] = Hz[np.ix_(indices_j, indices_i, [n])].squeeze()\n",
        "\n",
        "# Vector de Poynting\n",
        "#S = cross([Ex,Ey,0],[0,0,Hz])\n",
        "S = cross([Ex_q,Ey_q,0],[0,0,Hz_q])\n",
        "\n",
        "color = np.sqrt(Ex_q**2 + Ey_q**2)\n"
      ],
      "metadata": {
        "collapsed": true,
        "id": "WVvI3mUg5eCj"
      },
      "execution_count": null,
      "outputs": []
    },
    {
      "cell_type": "code",
      "source": [
        "# ALGORITMO DE YEE\n",
        "# Conductividades σ,σ* = 0\n",
        "# ε y μ con geometria\n",
        "\n",
        "for n in range(Nt-1):\n",
        "    print(f\"\\r{round(n/(Nt-1)*100,2)}%\",end=\"\\r\")\n",
        "\n",
        "    # Crear copias de los arrays actuales\n",
        "    Hz_virtual = Hz[:, :, n].copy()\n",
        "    Ey_virtual = Ey[:, :, n].copy()\n",
        "    Ex_virtual = Ex[:, :, n].copy()\n",
        "\n",
        "    # Actualizar los valores en los arrays virtuales\n",
        "    Hz_virtual[1:-1, 1:-1] += (dt/u[1:-1, 1:-1]) * ((Ey[1:-1, 1:-1,n] - Ey[1:-1, 2:  ,n]) / dx + (Ex[2:, 1:-1,n] - Ex[1:-1, 1:-1,n]) / dy)\n",
        "    Ey_virtual[1:-1, 1:-1] += (dt/e[1:-1, 1:-1]) * ((Hz_virtual[1:-1,  :-2] - Hz_virtual[1:-1, 1:-1]) / dx)\n",
        "    Ex_virtual[1:-1, 1:-1] += (dt/e[1:-1, 1:-1]) * ((Hz_virtual[1:-1, 1:-1] - Hz_virtual[ :-2, 1:-1]) / dy)\n",
        "\n",
        "    # Copiar los valores actualizados de vuelta a los arrays originales\n",
        "    Hz[:, :, n+1] = Hz_virtual\n",
        "    Ey[:, :, n+1] = Ey_virtual\n",
        "    Ex[:, :, n+1] = Ex_virtual\n",
        "\n",
        "\n",
        "# CAMPO VECTORIAL\n",
        "# Generar los índices directamente usando NumPy\n",
        "indices_j = np.arange(0, Ny_q) * Salto\n",
        "indices_i = np.arange(0, Nx_q) * Salto\n",
        "\n",
        "# Bucle en n para la actualización del campo\n",
        "for n in range(Nt):\n",
        "    print(f\"{round(n/(Nt-1)*100,2)}%\", end=\"\\r\")\n",
        "    Ey_q[:, :, n] = Ey[np.ix_(indices_j, indices_i, [n])].squeeze()\n",
        "    Ex_q[:, :, n] = Ex[np.ix_(indices_j, indices_i, [n])].squeeze()\n",
        "    Hz_q[:, :, n] = Hz[np.ix_(indices_j, indices_i, [n])].squeeze()\n",
        "\n",
        "# Vector de Poynting\n",
        "#S = cross([Ex,Ey,0],[0,0,Hz])\n",
        "S = cross([Ex_q,Ey_q,0],[0,0,Hz_q])\n",
        "\n",
        "color = np.sqrt(Ex_q**2 + Ey_q**2)"
      ],
      "metadata": {
        "colab": {
          "base_uri": "https://localhost:8080/"
        },
        "collapsed": true,
        "outputId": "a026358f-5114-4a6d-ba61-bf95791a2c36",
        "id": "Zm5878ybr6Y8"
      },
      "execution_count": null,
      "outputs": [
        {
          "output_type": "stream",
          "name": "stdout",
          "text": []
        }
      ]
    },
    {
      "cell_type": "code",
      "execution_count": null,
      "metadata": {
        "colab": {
          "base_uri": "https://localhost:8080/"
        },
        "id": "frAWitUNMMeC",
        "outputId": "faf6392d-c19e-417c-d2b5-b4362d17861f"
      },
      "outputs": [
        {
          "output_type": "stream",
          "name": "stdout",
          "text": []
        }
      ],
      "source": [
        "#ALGORITMO DE YEE\n",
        "#Conductividades σ,σ* = 0\n",
        "#Geometría opaca\n",
        "\n",
        "for n in np.arange(0,Nt-1):\n",
        "  print(f\"{round(n/(Nt-1)*100,2)}%\",end=\"\\r\")\n",
        "  Hz[1:-1,1:-1,n+1] = geo[1:-1,1:-1]*(Hz[1:-1,1:-1,n] + (dt/u)*((Ey[1:-1,1:-1,n  ]-Ey[1:-1,2:  ,n  ])/dx + (Ex[2: ,1:-1,n]-Ex[1:-1,1:-1,n])/dy))\n",
        "  Ey[1:-1,1:-1,n+1] = geo[1:-1,1:-1]*(Ey[1:-1,1:-1,n] + (dt/e)*( Hz[1:-1, :-2,n+1]-Hz[1:-1,1:-1,n+1])/dx)\n",
        "  Ex[1:-1,1:-1,n+1] = geo[1:-1,1:-1]*(Ex[1:-1,1:-1,n] + (dt/e)*( Hz[1:-1,1:-1,n+1]-Hz[ :-2,1:-1,n+1])/dy)\n",
        "\n",
        "\n",
        "# CAMPO VECTORIAL\n",
        "# Generar los índices directamente usando NumPy\n",
        "indices_j = np.arange(0, Ny_q) * Salto\n",
        "indices_i = np.arange(0, Nx_q) * Salto\n",
        "\n",
        "# Bucle en n para la actualización del campo\n",
        "for n in range(Nt):\n",
        "    print(f\"{round(n/(Nt-1)*100,2)}%\", end=\"\\r\")\n",
        "    Ey_q[:, :, n] = Ey[np.ix_(indices_j, indices_i, [n])].squeeze()\n",
        "    Ex_q[:, :, n] = Ex[np.ix_(indices_j, indices_i, [n])].squeeze()\n",
        "    Hz_q[:, :, n] = Hz[np.ix_(indices_j, indices_i, [n])].squeeze()\n",
        "\n",
        "# Vector de Poynting\n",
        "#S = cross([Ex,Ey,0],[0,0,Hz])\n",
        "S = cross([Ex_q,Ey_q,0],[0,0,Hz_q])\n",
        "\n",
        "color = np.sqrt(Ex_q**2 + Ey_q**2)"
      ]
    },
    {
      "cell_type": "code",
      "execution_count": null,
      "metadata": {
        "id": "dgTIVVmPyLfE",
        "colab": {
          "base_uri": "https://localhost:8080/",
          "height": 333
        },
        "outputId": "4abf66b6-0653-4503-a590-2ba8161ec117"
      },
      "outputs": [
        {
          "output_type": "display_data",
          "data": {
            "text/plain": [
              "<Figure size 640x480 with 2 Axes>"
            ],
            "image/png": "[encoded data removed]"
          },
          "metadata": {}
        }
      ],
      "source": [
        "# GRAFICADO PROVISIONAL\n",
        "plt.close()\n",
        "\n",
        "p = 0.35\n",
        "t = int(p*Nt)\n",
        "\n",
        "# Geometria opaca\n",
        "if geom_type == \"Opaca_arbitraria\":\n",
        "  plt.imshow(geo,cmap=\"inferno\",vmin=0,vmax=1,origin=\"lower\")\n",
        "\n",
        "# Campo eléctrico\n",
        "#plt.quiver(X,Y,Ex_q[:,:,t],Ey_q[:,:,t],color[:,:,t],scale=14,units=\"width\")\n",
        "\n",
        "# Campo de poynting\n",
        "plt.quiver(X,Y,S[0,:,:,t],S[1,:,:,t],scale=6,units=\"width\")\n",
        "\n",
        "# Componente del campo\n",
        "plt.imshow(Ey[:,:,t],vmin=-0.75,vmax=0.75,origin=\"lower\") #,alpha=geo\n",
        "\n",
        "# Frontera\n",
        "plt.plot(x,y,\"k-\",linewidth=0.65)\n",
        "\n",
        "plt.title(f\"n = {t}/{Nt}\") #plt.title(\"Campo Eléctrico\")\n",
        "plt.xlabel(\"$x$\")\n",
        "plt.ylabel(\"$y$\",rotation=0)\n",
        "plt.xlim(0,Nx-1)\n",
        "plt.ylim(0,Ny-1)\n",
        "plt.colorbar(shrink=0.52)\n",
        "#plt.clim(-0.75,0.75)\n",
        "\n",
        "plt.tight_layout()\n",
        "\n",
        "plt.savefig(\"%.2f.png\"%(p),bbox_inches=\"tight\",dpi=200)"
      ]
    },
    {
      "cell_type": "code",
      "source": [
        "#                       ANIMACIÓN\n",
        "# Configuración\n",
        "T_anim = 15  # segundos\n",
        "num_fps = 35\n",
        "num_frames = T_anim * num_fps\n",
        "Coef_prop = int(Nt / num_frames)\n",
        "interpol = \"none\"\n",
        "alfa = geo\n",
        "\n",
        "# Crear la figura y los ejes\n",
        "fig, ax = plt.subplots()\n",
        "ax.set_facecolor(\"black\")\n",
        "\n",
        "# Inicializar los gráficos\n",
        "# Campo eléctrico\n",
        "#quiver = ax.quiver(X, Y, Ex_q[:,:,0], Ey_q[:,:,0], color[:,:,0], scale=14, units=\"width\")\n",
        "# Poynting\n",
        "#quiver = ax.quiver(X, Y, S[0,:,:,0], S[1,:,:,0], scale=8, units=\"width\")\n",
        "# Componente del campo\n",
        "imshow = ax.imshow(Ey[:,:,0], interpolation=interpol, vmin=-0.75, vmax=0.75, origin=\"lower\")#,alpha=alfa\n",
        "\n",
        "def update_quiver(n):\n",
        "    n = Coef_prop * n\n",
        "    # Actualizar los datos del campo electrico\n",
        "    #quiver.set_UVC(Ex_q[:,:,n], Ey_q[:,:,n], color[:,:,n])\n",
        "    # Actualizar los datos del campo de Poynting\n",
        "    #quiver.set_UVC(S[0,:,:,n], S[1,:,:,n])\n",
        "    # Actualizar los datos de la imagen\n",
        "    imshow.set_array(Ey[:,:,n])\n",
        "    return quiver, imshow\n",
        "\n",
        "# Configuración de los ejes\n",
        "ax.plot(x,y,\"k-\",linewidth=0.65)\n",
        "ax.set_xlim(0, Nx-1)\n",
        "ax.set_ylim(0, Ny-1)\n",
        "ax.set_title(\"Camponente $E_y$\")\n",
        "plt.xlabel(\"$x$\")\n",
        "plt.ylabel(\"$y$\", rotation=0)\n",
        "plt.tight_layout()\n",
        "\n",
        "# Añadir la barra de color\n",
        "plt.colorbar(imshow, ax=ax, shrink=Ly/Lx, location=\"right\", orientation=\"vertical\")\n",
        "\n",
        "# Crear la animación\n",
        "ani = animation.FuncAnimation(fig, update_quiver, frames=num_frames, interval=int(1 / num_fps * 1000), blit=True)\n",
        "\n",
        "#Guardar la animación\n",
        "campo = \"Ey\"\n",
        "\n",
        "if geometria == False:\n",
        "  ani.save(f\"{campo}_Geom_none_Interpol_{interpol}_Nx={Nx}_Ny={Ny}.mp4\",fps=num_fps,dpi=200, extra_args=['-vcodec', 'libx264'])\n",
        "if geometria == True:\n",
        "  if geom_type == \"Opaca_arbitraria\":\n",
        "    ani.save(f\"{campo}_{nom_geom[:-4]}_Opaca_Interpol_{interpol}_Nx={Nx}_Ny={Ny}.mp4\",fps=num_fps,dpi=200, extra_args=['-vcodec', 'libx264'])\n",
        "  else:\n",
        "    ani.save(f\"{campo}_Geom_{geom_type}_n={n_i}_Interpol_{interpol}_Nx={Nx}_Ny={Ny}.mp4\",fps=num_fps,dpi=200, extra_args=['-vcodec', 'libx264'])\n",
        "\n",
        "plt.close()\n"
      ],
      "metadata": {
        "id": "r5WLj48jIDkH"
      },
      "execution_count": null,
      "outputs": []
    }
  ],
  "metadata": {
    "colab": {
      "provenance": [],
      "authorship_tag": "ABX9TyOZrk+UkVY7j/MbZiEispSR",
      "include_colab_link": true
    },
    "kernelspec": {
      "display_name": "Python 3",
      "name": "python3"
    },
    "language_info": {
      "name": "python"
    }
  },
  "nbformat": 4,
  "nbformat_minor": 0
}