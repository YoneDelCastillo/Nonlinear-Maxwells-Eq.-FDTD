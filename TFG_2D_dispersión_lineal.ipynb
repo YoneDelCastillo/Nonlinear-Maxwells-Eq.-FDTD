{
  "cells": [
    {
      "cell_type": "markdown",
      "metadata": {
        "id": "view-in-github",
        "colab_type": "text"
      },
      "source": [
        "<a href=\"https://colab.research.google.com/github/YoneDelCastillo/Nonlinear-Maxwells-Eq.-FDTD/blob/main/TFG_2D_dispersi%C3%B3n_lineal.ipynb\" target=\"_parent\"><img src=\"https://colab.research.google.com/assets/colab-badge.svg\" alt=\"Open In Colab\"/></a>"
      ]
    },
    {
      "cell_type": "code",
      "execution_count": 1,
      "metadata": {
        "id": "9mVKBbYKqAQ_"
      },
      "outputs": [],
      "source": [
        "#MODULOS DE PYTHON\n",
        "\n",
        "#Librerías:\n",
        "#Para cálculos y gráficas:\n",
        "import numpy as np\n",
        "import matplotlib.pyplot as plt\n",
        "#Para la animación:\n",
        "import matplotlib.animation as animation"
      ]
    },
    {
      "cell_type": "code",
      "execution_count": 27,
      "metadata": {
        "id": "mJnjMmnq9UAr"
      },
      "outputs": [],
      "source": [
        "#DEFINICION DE VARIABLES Y PARAMETROS\n",
        "\n",
        "#Número de puntos espaciales\n",
        "Lx = 1\n",
        "dx = 0.025\n",
        "Ly = 1\n",
        "dy = 0.025\n",
        "\n",
        "Nx = int(Lx/dx)+2\n",
        "Ny = int(Ly/dy)+2\n",
        "\n",
        "#Número de intervalos temporales\n",
        "T = 1\n",
        "dt = 0.0001\n",
        "\n",
        "Nt = int(T/dt)\n",
        "\n",
        "#Constantes\n",
        "#τ_p\n",
        "t_p = 0.001\n",
        "# ε\n",
        "e = 3\n",
        "# ε_∞\n",
        "e_i = 1.5\n",
        "# μ\n",
        "u = 1\n",
        "#Δε_p\n",
        "De = e - e_i\n",
        "\n",
        "#Medio de Debye\n",
        "#χ\n",
        "def Chi(m,De,dt,t_p):\n",
        "  chi = De*(1-np.exp(-dt/t_p))*np.exp(-m*dt/t_p)\n",
        "  return chi\n",
        "#ξ\n",
        "def Xi(m,De,dt,t_p):\n",
        "  xi = (De*t_p/dt)*(1-(dt/t_p+1)*np.exp(-dt/t_p))*np.exp(-m*dt/t_p)\n",
        "  return xi\n",
        "#Δχ_0\n",
        "D_Chi_0 = Chi(0,De,dt,t_p)-Chi(1,De,dt,t_p)\n",
        "#Δξ_0\n",
        "D_Xi_0 = Xi(0,De,dt,t_p)-Xi(1,De,dt,t_p)\n",
        "#α\n",
        "a = (e_i-Xi(0,De,dt,t_p))/(e_i-Xi(0,De,dt,t_p)+Chi(0,De,dt,t_p))\n",
        "#β\n",
        "b = (dt/e)/(e_i-Xi(0,De,dt,t_p)+Chi(0,De,dt,t_p))\n",
        "#γ\n",
        "y = 1/(e_i-Xi(0,De,dt,t_p)+Chi(0,De,dt,t_p))\n",
        "\n",
        "#Definicion de los campos\n",
        "Ex = np.zeros((Ny,Nx,Nt))\n",
        "Ey = np.zeros((Ny,Nx,Nt))\n",
        "Hz = np.zeros((Ny,Nx,Nt))\n",
        "\n",
        "Psi_x = np.zeros((Ny,Nx))\n",
        "Psi_y = np.zeros((Ny,Nx))\n",
        "\n",
        "#Condiciones iniciales\n",
        "def Gauss(x,y,x0,y0,a,b,A):\n",
        "  y = A*np.exp(-(x-x0)**2/(2*a**2)-(y-y0)**2/(2*b**2))\n",
        "  return y\n",
        "\n",
        "#Imponemos las condiciones iniciales a Ey y Hz\n",
        "#Al mismo tiempo estamos imponiendo las condiciones de contorno de pozo de potencial infinito\n",
        "for j in np.arange(1,Ny-1):\n",
        "  for i in np.arange(1,Nx-1):\n",
        "    #Ex[j,i,0] = Gauss(i*dx,j*dy,0.25*Lx,0.5*Ly,0.01,0.07,1)\n",
        "    Ey[j,i,0] = Gauss(i*dx,j*dy,0.2*Lx     ,0.5*Ly     ,0.07,0.2,1)*np.cos((2*np.pi/(0.2*Lx))*i*dx)\n",
        "    Hz[j,i,0] = Gauss(i*dx,j*dy,0.2*Lx-dx/2,0.5*Ly-dy/2,0.07,0.2,1)*np.cos((2*np.pi/(0.2*Lx))*i*dx)\n",
        "\n",
        "geometria = False"
      ]
    },
    {
      "cell_type": "code",
      "execution_count": 28,
      "metadata": {
        "colab": {
          "base_uri": "https://localhost:8080/",
          "height": 466
        },
        "id": "hkUqmmzH_atC",
        "outputId": "940ba426-83c3-4022-a264-b1f827c77252"
      },
      "outputs": [
        {
          "output_type": "execute_result",
          "data": {
            "text/plain": [
              "<matplotlib.colorbar.Colorbar at 0x7d9b04cec7c0>"
            ]
          },
          "metadata": {},
          "execution_count": 28
        },
        {
          "output_type": "display_data",
          "data": {
            "text/plain": [
              "<Figure size 640x480 with 2 Axes>"
            ],
            "image/png": "[encoded data removed]"
          },
          "metadata": {}
        }
      ],
      "source": [
        "#Representación de la condición inicial\n",
        "plt.imshow(Ey[:,:,0],vmin=-0.75,vmax=0.75,origin=\"lower\")\n",
        "plt.xlabel(\"$x$\")\n",
        "plt.ylabel(\"$y$\",rotation=0)\n",
        "plt.colorbar()\n",
        "\n",
        "\n",
        "#plt.xlim(0,Nx-1)\n",
        "#plt.ylim(0,Ny-1)\n"
      ]
    },
    {
      "cell_type": "code",
      "execution_count": 29,
      "metadata": {
        "id": "PTclvfJ2ESAD",
        "colab": {
          "base_uri": "https://localhost:8080/"
        },
        "outputId": "f0677cf0-ebb8-4d72-bc73-b767c2f0329b"
      },
      "outputs": [
        {
          "output_type": "stream",
          "name": "stdout",
          "text": [
            "25%\n",
            "50%\n",
            "75%\n",
            "90%\n",
            "100%\n"
          ]
        }
      ],
      "source": [
        "#ALGORITMO DE YEE\n",
        "\n",
        "for n in np.arange(0,Nt-1):\n",
        "  if n == int(0.25*Nt):\n",
        "    print(\"25%\")\n",
        "  elif n == int(0.5*Nt):\n",
        "    print(\"50%\")\n",
        "  elif n == int(0.75*Nt):\n",
        "    print(\"75%\")\n",
        "  elif n == int(0.9*Nt):\n",
        "    print(\"90%\")\n",
        "  elif n == Nt-2:\n",
        "    print(\"100%\")\n",
        "  for j in np.arange(1,Ny-1):\n",
        "    for i in np.arange(1,Nx-1):\n",
        "      Ex[j,i,n+1] = a*Ex[j,i,n] + b*( Hz[j,i,n]-Hz[j-1,i,n])/dy + y*Psi_x[j,i]\n",
        "      Ey[j,i,n+1] = a*Ey[j,i,n] - b*( Hz[j,i,n]-Hz[j,i-1,n])/dx + y*Psi_y[j,i]\n",
        "      Hz[j,i,n+1] = Hz[j,i,n] - (dt/u)*((Ey[j,i+1,n]-Ey[j,i,n])/dx - (Ex[j+1,i,n]-Ex[j,i,n])/dy)\n",
        "      Psi_x[j,i] = (D_Chi_0 - D_Xi_0)*Ex[j,i,n] + D_Xi_0*Ex[j,i,n+1] + Psi_x[j,i]*np.exp(-dt/t_p)\n",
        "      Psi_y[j,i] = (D_Chi_0 - D_Xi_0)*Ey[j,i,n] + D_Xi_0*Ey[j,i,n+1] + Psi_y[j,i]*np.exp(-dt/t_p)\n"
      ]
    },
    {
      "cell_type": "code",
      "execution_count": null,
      "metadata": {
        "id": "XW1mVWYyNnXx"
      },
      "outputs": [],
      "source": [
        "#ALGORITMO DE YEE\n",
        "\n",
        "for n in np.arange(0,Nt-1):\n",
        "  for j in np.arange(1,Ny-1):\n",
        "    for i in np.arange(1,Nx-1):\n",
        "      Ex[j,i,n+1] = a*Ex[j,i,n] + b*( Hz[j,i,n]-Hz[j-1,i,n])/dy + y*Psi_x[j,i]\n",
        "      Ey[j,i,n+1] = a*Ey[j,i,n] - b*( Hz[j,i,n]-Hz[j,i-1,n])/dx + y*Psi_y[j,i]\n",
        "      Hz[j,i,n+1] = Hz[j,i,n] - (dt/u)*((Ey[j,i+1,n]-Ey[j,i,n])/dx - (Ex[j+1,i,n]-Ex[j,i,n])/dy)\n",
        "      Psi_x[j,i] = (D_Chi_0 - D_Xi_0)*Ex[j,i,n] + D_Xi_0*Ex[j,i,n+1] + Psi_x[j,i]*np.exp(-dt/t_p)\n",
        "      Psi_y[j,i] = (D_Chi_0 - D_Xi_0)*Ey[j,i,n] + D_Xi_0*Ey[j,i,n+1] + Psi_y[j,i]*np.exp(-dt/t_p)\n"
      ]
    },
    {
      "cell_type": "code",
      "execution_count": 36,
      "metadata": {
        "id": "z6Ejyr6eCgXw",
        "colab": {
          "base_uri": "https://localhost:8080/",
          "height": 466
        },
        "outputId": "a08872b5-88e5-4872-df23-aef1dda87970"
      },
      "outputs": [
        {
          "output_type": "execute_result",
          "data": {
            "text/plain": [
              "(0.0, 41.0)"
            ]
          },
          "metadata": {},
          "execution_count": 36
        },
        {
          "output_type": "display_data",
          "data": {
            "text/plain": [
              "<Figure size 640x480 with 2 Axes>"
            ],
            "image/png": "[encoded data removed]"
          },
          "metadata": {}
        }
      ],
      "source": [
        "#Visualización provisional\n",
        "\n",
        "t = int(0.95*Nt)\n",
        "plt.imshow(Ey[:,:,t],vmin=-0.75,vmax=0.75,origin=\"lower\")\n",
        "plt.colorbar()\n",
        "\n",
        "#plt.plot(x,y,\"k-\",linewidth=0.65)\n",
        "plt.xlabel(\"$x$\")\n",
        "plt.ylabel(\"$y$\",rotation=0)\n",
        "#plt.title(f\"Indice de refracción n = {n_i}\")\n",
        "\n",
        "plt.xlim(0,Nx-1)\n",
        "plt.ylim(0,Ny-1)"
      ]
    },
    {
      "cell_type": "code",
      "execution_count": 37,
      "metadata": {
        "id": "U31-bVxdE9Bw"
      },
      "outputs": [],
      "source": [
        "#                       ANIMACIÓN\n",
        "\n",
        "#Animación:\n",
        "T_anim =  10   #seg\n",
        "num_fps = 25\n",
        "num_frames = T_anim*num_fps\n",
        "\n",
        "Coef_prop = int(Nt/num_frames)\n",
        "\n",
        "#Definimos una función que crea un frame de la animación\n",
        "fig,ax = plt.subplots()\n",
        "\n",
        "ims = []\n",
        "interpol = \"none\"\n",
        "for n in np.arange(0,num_frames):\n",
        "    n=Coef_prop*n\n",
        "    im = ax.imshow(Ey[:,:,n],interpolation = interpol,vmin=-0.75,vmax=0.75,animated = True,origin=\"lower\")\n",
        "    plt.xlabel(\"$x$\")\n",
        "    plt.ylabel(\"$y$\",rotation=0)\n",
        "    plt.title(\"Campo Electromagnético\")\n",
        "    #plt.xlim(0,Nx-1)\n",
        "    #plt.ylim(0,Ny-1)\n",
        "    ims.append([im])\n",
        "\n",
        "ani = animation.ArtistAnimation(fig, ims, interval=int(1/num_fps*1000), blit=True)\n",
        "plt.close()\n",
        "\n",
        "if Coef_prop < 1:\n",
        "  print(\"La animación no puede ser tan larga. La duración máxima posible es de %i s\"%(Nt/num_fps))"
      ]
    },
    {
      "cell_type": "code",
      "execution_count": 38,
      "metadata": {
        "id": "oaMqJg-UBxqa"
      },
      "outputs": [],
      "source": [
        "#Esta función de matplot guarda el Vídeo\n",
        "campo = \"Ey\"\n",
        "\n",
        "ani.save(f\"{campo}_Disp_Interpol_{interpol}_Nx={Nx}_Ny={Ny}_T={T}.mp4\")"
      ]
    }
  ],
  "metadata": {
    "colab": {
      "provenance": [],
      "authorship_tag": "ABX9TyMpG4B6UNboB0etbW7lr0I8",
      "include_colab_link": true
    },
    "kernelspec": {
      "display_name": "Python 3",
      "name": "python3"
    },
    "language_info": {
      "name": "python"
    }
  },
  "nbformat": 4,
  "nbformat_minor": 0
}