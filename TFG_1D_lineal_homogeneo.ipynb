{
  "nbformat": 4,
  "nbformat_minor": 0,
  "metadata": {
    "colab": {
      "provenance": [],
      "authorship_tag": "ABX9TyNVjNfotJJtWhx6zxIlLfG3",
      "include_colab_link": true
    },
    "kernelspec": {
      "name": "python3",
      "display_name": "Python 3"
    },
    "language_info": {
      "name": "python"
    }
  },
  "cells": [
    {
      "cell_type": "markdown",
      "metadata": {
        "id": "view-in-github",
        "colab_type": "text"
      },
      "source": [
        "<a href=\"https://colab.research.google.com/github/YoneDelCastillo/TFG-Ec.-Maxwell-no-lineales./blob/main/TFG_1D_lineal_homogeneo.ipynb\" target=\"_parent\"><img src=\"https://colab.research.google.com/assets/colab-badge.svg\" alt=\"Open In Colab\"/></a>"
      ]
    },
    {
      "cell_type": "code",
      "execution_count": 54,
      "metadata": {
        "id": "9mVKBbYKqAQ_"
      },
      "outputs": [],
      "source": [
        "#MODULOS DE PYTHON\n",
        "\n",
        "#Librerías:\n",
        "#Para cálculos y gráficas:\n",
        "import numpy as np\n",
        "import matplotlib.pyplot as plt\n",
        "#Para la animación:\n",
        "import matplotlib.animation as animation"
      ]
    },
    {
      "cell_type": "code",
      "source": [
        "#DEFINICION DE VARIABLES Y PARAMETROS\n",
        "\n",
        "#Número de puntos espaciales\n",
        "L = 1\n",
        "dx = 0.01\n",
        "\n",
        "Nx = int(L/dx)+1\n",
        "\n",
        "#Número de intervalos temporales\n",
        "T = 2.5\n",
        "dt = 0.0001\n",
        "\n",
        "Nt = int(T/dt)+1\n",
        "\n",
        "# σ/ε = a\n",
        "a = 1\n",
        "# σ*/μ = b\n",
        "b = 1\n",
        "# ε\n",
        "e = 1\n",
        "# μ\n",
        "u = 1\n",
        "\n",
        "#Definicion de los campos\n",
        "x  = np.zeros((Nx))\n",
        "Ey = np.zeros((Nx,Nt))\n",
        "Hz = np.zeros((Nx,Nt))\n",
        "\n",
        "#Condiciones iniciales\n",
        "def Gauss(x,a,b,c):\n",
        "  y = a*np.exp(-(x-b)**2/(2*c**2))\n",
        "  return y\n",
        "\n",
        "#Imponemos las condiciones iniciales a Ey y Hz\n",
        "for i in np.arange(0,Nx):\n",
        "  x[i]    = i*dx\n",
        "  Ey[i,0] = Gauss(i*dx,1,0.5*L,0.05)\n",
        "  Hz[i,0] = Gauss(i*dx,1,0.5*L,0.05)\n"
      ],
      "metadata": {
        "id": "mJnjMmnq9UAr"
      },
      "execution_count": 68,
      "outputs": []
    },
    {
      "cell_type": "code",
      "source": [
        "#ALGORITMO DE YEE\n",
        "\n",
        "for n in np.arange(0,Nt-1):\n",
        "  #Contorno izq.\n",
        "  Hz[0,n+1] = (1-0.5*b*dt)/(1+0.5*b*dt)*Hz[0,n] + ((dt/u)/(1+0.5*b*dt))*(Ey[0,n]-Ey[0+1,n])/dx\n",
        "  Ey[0,n+1] = (1-0.5*a*dt)/(1+0.5*a*dt)*Ey[0,n] + ((dt/e)/(1+0.5*a*dt))*(-Hz[0,n])/dx\n",
        "  for i in np.arange(1,Nx-1):\n",
        "    Hz[i,n+1] = (1-0.5*b*dt)/(1+0.5*b*dt)*Hz[i,n] + ((dt/u)/(1+0.5*b*dt))*(Ey[i,n]-Ey[i+1,n])/dx\n",
        "    Ey[i,n+1] = (1-0.5*a*dt)/(1+0.5*a*dt)*Ey[i,n] + ((dt/e)/(1+0.5*a*dt))*(Hz[i-1,n]-Hz[i,n])/dx\n",
        "  #Contorno der.\n",
        "  Hz[Nx-1,n+1] = (1-0.5*b*dt)/(1+0.5*b*dt)*Hz[Nx-1,n] + ((dt/u)/(1+0.5*b*dt))*(Ey[Nx-1,n])/dx\n",
        "  Ey[Nx-1,n+1] = (1-0.5*a*dt)/(1+0.5*a*dt)*Ey[Nx-1,n] + ((dt/e)/(1+0.5*a*dt))*(Hz[Nx-1-1,n]-Hz[Nx-1,n])/dx"
      ],
      "metadata": {
        "id": "DI815z2wFsGB"
      },
      "execution_count": 69,
      "outputs": []
    },
    {
      "cell_type": "code",
      "source": [
        "np.mod(13,13)"
      ],
      "metadata": {
        "colab": {
          "base_uri": "https://localhost:8080/"
        },
        "id": "4_SdqIO9BhJd",
        "outputId": "b606a04f-f81a-4b3c-a945-5794a4f23f2b"
      },
      "execution_count": 51,
      "outputs": [
        {
          "output_type": "execute_result",
          "data": {
            "text/plain": [
              "0"
            ]
          },
          "metadata": {},
          "execution_count": 51
        }
      ]
    },
    {
      "cell_type": "code",
      "source": [
        "Hz[Nx-1,2]"
      ],
      "metadata": {
        "colab": {
          "base_uri": "https://localhost:8080/"
        },
        "id": "H6BJC34YB1re",
        "outputId": "68ae1358-c6d8-4692-c861-62074c81197b"
      },
      "execution_count": 53,
      "outputs": [
        {
          "output_type": "execute_result",
          "data": {
            "text/plain": [
              "0.0"
            ]
          },
          "metadata": {},
          "execution_count": 53
        }
      ]
    },
    {
      "cell_type": "code",
      "source": [
        "n = int(0.67*Nt)\n",
        "\n",
        "plt.plot(x,Ey[:,n],x,Hz[:,n])\n",
        "plt.xlim(0,1)\n",
        "plt.ylim(-1,1)\n",
        "plt.grid()"
      ],
      "metadata": {
        "colab": {
          "base_uri": "https://localhost:8080/",
          "height": 435
        },
        "id": "z6Ejyr6eCgXw",
        "outputId": "3b01996e-df40-4d6b-d7b9-5e06bc790f48"
      },
      "execution_count": 74,
      "outputs": [
        {
          "output_type": "display_data",
          "data": {
            "text/plain": [
              "<Figure size 640x480 with 1 Axes>"
            ],
            "image/png": "[encoded data removed]"
          },
          "metadata": {}
        }
      ]
    },
    {
      "cell_type": "code",
      "execution_count": 75,
      "metadata": {
        "id": "SSoIr6yO7A51"
      },
      "outputs": [],
      "source": [
        "#                       ANIMACIÓN\n",
        "\n",
        "#Animación:\n",
        "T_anim =  15   #seg\n",
        "num_fps = 25\n",
        "num_frames = T_anim*num_fps\n",
        "\n",
        "Coef_prop = int(Nt/num_frames)\n",
        "\n",
        "#Definimos una función que crea un frame de la animación\n",
        "\n",
        "fig, ax = plt.subplots()\n",
        "\n",
        "line, = ax.plot(x,Ey[:,0])\n",
        "\n",
        "def animate(j):\n",
        "    j=Coef_prop*j\n",
        "    line.set_ydata(Ey[:,j])  # update the data.\n",
        "    ax.set_xlim(0,1)\n",
        "    ax.set_ylim(-1,1)\n",
        "    return line,\n",
        "\n",
        "ani = animation.FuncAnimation(fig, animate, frames = num_frames,\n",
        "                              interval=int(1/num_fps*1000), blit=True)\n",
        "plt.close()\n",
        "\n",
        "if Coef_prop < 1:\n",
        "  print(\"La animación no puede ser tan larga. La duración máxima posible es de %i s\"%(Nt/num_fps))"
      ]
    },
    {
      "cell_type": "code",
      "execution_count": 79,
      "metadata": {
        "id": "U31-bVxdE9Bw"
      },
      "outputs": [],
      "source": [
        "#                       ANIMACIÓN\n",
        "\n",
        "#Animación:\n",
        "T_anim =  15   #seg\n",
        "num_fps = 25\n",
        "num_frames = T_anim*num_fps\n",
        "\n",
        "Coef_prop = int(Nt/num_frames)\n",
        "\n",
        "#Definimos una función que crea un frame de la animación\n",
        "\n",
        "fig, ax = plt.subplots()\n",
        "\n",
        "\n",
        "def animate(n):\n",
        "    n=Coef_prop*n\n",
        "    ax.clear()\n",
        "    y = ax.plot(x,Ey[:,n],x,Hz[:,n])\n",
        "    ax.grid()\n",
        "    ax.set_xlim(0,1)\n",
        "    ax.set_ylim(-1,1)\n",
        "    return y\n",
        "\n",
        "ani = animation.FuncAnimation(fig, animate, frames = num_frames,\n",
        "                              interval=int(1/num_fps*1000), blit=True)\n",
        "plt.close()\n",
        "\n",
        "if Coef_prop < 1:\n",
        "  print(\"La animación no puede ser tan larga. La duración máxima posible es de %i s\"%(Nt/num_fps))"
      ]
    },
    {
      "cell_type": "code",
      "source": [
        "#Esta función de matplot guarda el GIF\n",
        "ani.save(\"Prueba14.mp4\")"
      ],
      "metadata": {
        "id": "oaMqJg-UBxqa"
      },
      "execution_count": 80,
      "outputs": []
    }
  ]
}